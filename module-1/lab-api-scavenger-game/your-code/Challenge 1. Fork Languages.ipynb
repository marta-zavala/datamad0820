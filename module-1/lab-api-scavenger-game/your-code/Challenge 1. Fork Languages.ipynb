{
 "cells": [
  {
   "cell_type": "markdown",
   "metadata": {},
   "source": [
    "##### You will find out how many programming languages are used among all the forks created from the main lab repo of your bootcamp. Assuming the main lab repo is ironhack-datalabs/madrid-oct-2018, you will:\n",
    "\n",
    "Obtain the full list of forks created from the main lab repo via Github API.\n",
    "\n",
    "Loop the JSON response to find out the language attribute of each fork. Use an array to store the language attributes of each fork.\n",
    "\n",
    "Hint: Each language should appear only once in your array.\n",
    "Print the language array. It should be something like:\n",
    "\n",
    "[\"Python\", \"Jupyter Notebook\", \"HTML\"]\n",
    "\n",
    "Again, the documentation of Github API is here."
   ]
  },
  {
   "cell_type": "code",
   "execution_count": 1,
   "metadata": {},
   "outputs": [
    {
     "data": {
      "text/plain": [
       "True"
      ]
     },
     "execution_count": 1,
     "metadata": {},
     "output_type": "execute_result"
    }
   ],
   "source": [
    "import requests\n",
    "import json\n",
    "import os\n",
    "from dotenv import load_dotenv\n",
    "load_dotenv()\n"
   ]
  },
  {
   "cell_type": "code",
   "execution_count": 2,
   "metadata": {},
   "outputs": [],
   "source": [
    "url_forks = \"/repos/ironhack-datalabs/datamad0820/forks\""
   ]
  },
  {
   "cell_type": "code",
   "execution_count": 3,
   "metadata": {},
   "outputs": [],
   "source": [
    "def requestGitHub (endpoint,token= os.getenv(\"GITHUB_APIKEY\")):\n",
    "    \n",
    "    baseUrl=\"https://api.github.com\"\n",
    "    url = baseUrl+endpoint\n",
    "\n",
    "    headers = {\n",
    "        \"Authorization\": f\"token {token}\"}\n",
    "\n",
    "    res = requests.get(url, headers=headers)\n",
    "    \n",
    "    data = res.json()\n",
    "    \n",
    "    if res.status_code != 200:\n",
    "        raise ValueError(f'Invalid github api call: {data[\"message\"]}')\n",
    "    \n",
    "    return data"
   ]
  },
  {
   "cell_type": "code",
   "execution_count": 4,
   "metadata": {},
   "outputs": [],
   "source": [
    "x = requestGitHub(url_forks)"
   ]
  },
  {
   "cell_type": "code",
   "execution_count": 5,
   "metadata": {},
   "outputs": [
    {
     "data": {
      "text/plain": [
       "['https://api.github.com/repos/Gon41/datamad0820/languages',\n",
       " 'https://api.github.com/repos/VanessaMacC/datamad0820/languages',\n",
       " 'https://api.github.com/repos/Joycelili/datamad0820/languages',\n",
       " 'https://api.github.com/repos/DiegoCaulonga/datamad0820/languages',\n",
       " 'https://api.github.com/repos/miguelgimenezgimenez/datamad0820/languages',\n",
       " 'https://api.github.com/repos/Alvere/datamad0820/languages',\n",
       " 'https://api.github.com/repos/MigeruDono/datamad0820/languages',\n",
       " 'https://api.github.com/repos/Diegon8/datamad0820/languages',\n",
       " 'https://api.github.com/repos/PaulaNuno/datamad0820/languages',\n",
       " 'https://api.github.com/repos/ferrero-felipe/datamad0820/languages',\n",
       " 'https://api.github.com/repos/grundius1/datamad0820/languages',\n",
       " 'https://api.github.com/repos/Jav1-Mart1nez/datamad0820/languages',\n",
       " 'https://api.github.com/repos/charliesket/datamad0820/languages',\n",
       " 'https://api.github.com/repos/laura290/datamad0820/languages',\n",
       " 'https://api.github.com/repos/marta-zavala/datamad0820/languages',\n",
       " 'https://api.github.com/repos/FDELTA/datamad0820/languages',\n",
       " 'https://api.github.com/repos/CarlosSanzDGP/datamad0820/languages',\n",
       " 'https://api.github.com/repos/bmedm/datamad0820/languages',\n",
       " 'https://api.github.com/repos/Davidlazarog/datamad0820/languages',\n",
       " 'https://api.github.com/repos/AnaMA96/datamad0820/languages',\n",
       " 'https://api.github.com/repos/rfminguez/datamad0820/languages',\n",
       " 'https://api.github.com/repos/gontzalm/datamad0820/languages',\n",
       " 'https://api.github.com/repos/jmena23/datamad0820/languages',\n",
       " 'https://api.github.com/repos/jorge-alamillos/datamad0820/languages',\n",
       " 'https://api.github.com/repos/silviaherf/datamad0820/languages',\n",
       " 'https://api.github.com/repos/KevsDe/datamad0820/languages',\n",
       " 'https://api.github.com/repos/IreneLopezLujan/datamad0820/languages',\n",
       " 'https://api.github.com/repos/Daniel-GarciaGarcia/datamad0820/languages']"
      ]
     },
     "execution_count": 5,
     "metadata": {},
     "output_type": "execute_result"
    }
   ],
   "source": [
    "lang_1=[]\n",
    "for lang in x:\n",
    "    lang_1.append(lang['languages_url'])\n",
    "lang_1"
   ]
  },
  {
   "cell_type": "code",
   "execution_count": 6,
   "metadata": {},
   "outputs": [
    {
     "data": {
      "text/plain": [
       "{'HTML', 'Jupyter Notebook', 'Python'}"
      ]
     },
     "execution_count": 6,
     "metadata": {},
     "output_type": "execute_result"
    }
   ],
   "source": [
    "language=[requestGitHub(i['languages_url'][22:]) for i in x]\n",
    "final=[ y for z in language for y in z]\n",
    "set(final)"
   ]
  },
  {
   "cell_type": "code",
   "execution_count": null,
   "metadata": {},
   "outputs": [],
   "source": []
  }
 ],
 "metadata": {
  "kernelspec": {
   "display_name": "Python 3",
   "language": "python",
   "name": "python3"
  },
  "language_info": {
   "codemirror_mode": {
    "name": "ipython",
    "version": 3
   },
   "file_extension": ".py",
   "mimetype": "text/x-python",
   "name": "python",
   "nbconvert_exporter": "python",
   "pygments_lexer": "ipython3",
   "version": "3.7.8"
  }
 },
 "nbformat": 4,
 "nbformat_minor": 4
}
