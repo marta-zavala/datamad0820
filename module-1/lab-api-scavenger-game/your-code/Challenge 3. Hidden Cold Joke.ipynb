{
 "cells": [
  {
   "cell_type": "code",
   "execution_count": 1,
   "metadata": {},
   "outputs": [
    {
     "data": {
      "text/plain": [
       "True"
      ]
     },
     "execution_count": 1,
     "metadata": {},
     "output_type": "execute_result"
    }
   ],
   "source": [
    "import requests\n",
    "import json\n",
    "import os\n",
    "import re\n",
    "from dotenv import load_dotenv\n",
    "import base64\n",
    "load_dotenv()"
   ]
  },
  {
   "cell_type": "code",
   "execution_count": 2,
   "metadata": {},
   "outputs": [],
   "source": [
    "url_contents = \"/repos/ironhack-datalabs/scavenger/contents\""
   ]
  },
  {
   "cell_type": "code",
   "execution_count": 3,
   "metadata": {},
   "outputs": [],
   "source": [
    "def requestGitHub (endpoint,token=os.getenv(\"GITHUB_APIKEY\")):\n",
    "    \n",
    "    baseUrl=\"https://api.github.com\"\n",
    "    url = baseUrl+endpoint\n",
    "\n",
    "    headers = {\n",
    "        \"Authorization\": f\"token {token}\"}\n",
    "\n",
    "    res = requests.get(url, headers=headers)\n",
    "    \n",
    "    data = res.json()\n",
    "    \n",
    "    if res.status_code != 200:\n",
    "        raise ValueError(f'Invalid github api call: {data[\"message\"]}')\n",
    "    \n",
    "    return data"
   ]
  },
  {
   "cell_type": "code",
   "execution_count": 4,
   "metadata": {},
   "outputs": [],
   "source": [
    "x = requestGitHub(url_contents)"
   ]
  },
  {
   "cell_type": "code",
   "execution_count": 5,
   "metadata": {},
   "outputs": [],
   "source": [
    "carpetas = [i[\"name\"] for i in x if i[\"name\"]!='.gitignore']"
   ]
  },
  {
   "cell_type": "code",
   "execution_count": 6,
   "metadata": {},
   "outputs": [],
   "source": [
    "archivos=[]\n",
    "for i in carpetas:\n",
    "    ext = requestGitHub(f\"/repos/ironhack-datalabs/scavenger/contents/{i}\")\n",
    "    for i in ext:\n",
    "        if re.search('.scavengerhunt',i[\"name\"]):\n",
    "            archivos.append(i)"
   ]
  },
  {
   "cell_type": "code",
   "execution_count": 7,
   "metadata": {},
   "outputs": [],
   "source": [
    "archivos.sort(key=lambda x: x[\"name\"])\n",
    "msg=[]\n",
    "for i in archivos:\n",
    "    a = i[\"git_url\"].split(\"/\")\n",
    "    ext = requestGitHub(f\"/repos/ironhack-datalabs/scavenger/git/blobs/{a[8]}\")\n",
    "    msg.append(base64.b64decode(ext[\"content\"]))"
   ]
  },
  {
   "cell_type": "code",
   "execution_count": 8,
   "metadata": {},
   "outputs": [
    {
     "data": {
      "text/plain": [
       "'In data science, 80 percent of time spent is preparing data, 20 percent of time is spent complaining about the need to prepare data. '"
      ]
     },
     "execution_count": 8,
     "metadata": {},
     "output_type": "execute_result"
    }
   ],
   "source": [
    "sol = \"\"\n",
    "for i in msg:\n",
    "    x = str(i).replace(\"\\n\", \"\").replace(\"b'\", \"\")\n",
    "    sol+=x\n",
    "sol.replace(\"\\\\n'\",\" \")"
   ]
  },
  {
   "cell_type": "code",
   "execution_count": null,
   "metadata": {},
   "outputs": [],
   "source": []
  }
 ],
 "metadata": {
  "kernelspec": {
   "display_name": "Python 3",
   "language": "python",
   "name": "python3"
  },
  "language_info": {
   "codemirror_mode": {
    "name": "ipython",
    "version": 3
   },
   "file_extension": ".py",
   "mimetype": "text/x-python",
   "name": "python",
   "nbconvert_exporter": "python",
   "pygments_lexer": "ipython3",
   "version": "3.7.8"
  }
 },
 "nbformat": 4,
 "nbformat_minor": 4
}
